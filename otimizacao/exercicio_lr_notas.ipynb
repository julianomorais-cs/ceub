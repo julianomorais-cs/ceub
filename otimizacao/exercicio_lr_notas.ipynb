{
 "cells": [
  {
   "cell_type": "code",
   "execution_count": 1,
   "metadata": {},
   "outputs": [],
   "source": [
    "import pandas as pd\n",
    "import numpy as np\n",
    "import statsmodels.formula.api as smf\n",
    "from numpy.linalg import inv\n",
    "from aux_fun import *"
   ]
  },
  {
   "cell_type": "code",
   "execution_count": 2,
   "metadata": {},
   "outputs": [],
   "source": [
    "# Display all cell results (not only last one)\n",
    "from IPython.core.interactiveshell import InteractiveShell\n",
    "InteractiveShell.ast_node_interactivity = \"all\""
   ]
  },
  {
   "cell_type": "code",
   "execution_count": 3,
   "metadata": {},
   "outputs": [
    {
     "data": {
      "text/html": [
       "<div>\n",
       "<style scoped>\n",
       "    .dataframe tbody tr th:only-of-type {\n",
       "        vertical-align: middle;\n",
       "    }\n",
       "\n",
       "    .dataframe tbody tr th {\n",
       "        vertical-align: top;\n",
       "    }\n",
       "\n",
       "    .dataframe thead th {\n",
       "        text-align: right;\n",
       "    }\n",
       "</style>\n",
       "<table border=\"1\" class=\"dataframe\">\n",
       "  <thead>\n",
       "    <tr style=\"text-align: right;\">\n",
       "      <th></th>\n",
       "      <th>nota</th>\n",
       "      <th>hrs_estudo</th>\n",
       "      <th>faltas</th>\n",
       "    </tr>\n",
       "  </thead>\n",
       "  <tbody>\n",
       "    <tr>\n",
       "      <th>0</th>\n",
       "      <td>9.0</td>\n",
       "      <td>4.0</td>\n",
       "      <td>2</td>\n",
       "    </tr>\n",
       "    <tr>\n",
       "      <th>1</th>\n",
       "      <td>7.0</td>\n",
       "      <td>4.0</td>\n",
       "      <td>1</td>\n",
       "    </tr>\n",
       "    <tr>\n",
       "      <th>2</th>\n",
       "      <td>5.5</td>\n",
       "      <td>2.0</td>\n",
       "      <td>4</td>\n",
       "    </tr>\n",
       "    <tr>\n",
       "      <th>3</th>\n",
       "      <td>8.0</td>\n",
       "      <td>3.0</td>\n",
       "      <td>1</td>\n",
       "    </tr>\n",
       "    <tr>\n",
       "      <th>4</th>\n",
       "      <td>2.0</td>\n",
       "      <td>0.5</td>\n",
       "      <td>5</td>\n",
       "    </tr>\n",
       "  </tbody>\n",
       "</table>\n",
       "</div>"
      ],
      "text/plain": [
       "   nota  hrs_estudo  faltas\n",
       "0   9.0         4.0       2\n",
       "1   7.0         4.0       1\n",
       "2   5.5         2.0       4\n",
       "3   8.0         3.0       1\n",
       "4   2.0         0.5       5"
      ]
     },
     "execution_count": 3,
     "metadata": {},
     "output_type": "execute_result"
    }
   ],
   "source": [
    "dados = pd.read_csv('https://raw.githubusercontent.com/Cayan-Portela/ceub/main/dados/df_notas.csv')\n",
    "dados.head()"
   ]
  },
  {
   "cell_type": "code",
   "execution_count": 4,
   "metadata": {},
   "outputs": [
    {
     "name": "stdout",
     "output_type": "stream",
     "text": [
      "Intercepto: 2.30 | Horas de estudo: 1.50\n",
      "Intercepto: 3.50 | Horas de estudo: 1.27 | Faltas: -0.26\n"
     ]
    }
   ],
   "source": [
    "modelo_1 = smf.ols(\"nota ~ hrs_estudo\", data=dados).fit()\n",
    "modelo_2 = smf.ols(\"nota ~ hrs_estudo + faltas\", data=dados).fit()\n",
    "\n",
    "print(f\"Intercepto: {modelo_1.params['Intercept']:.2f} | Horas de estudo: {modelo_1.params['hrs_estudo']:.2f}\")\n",
    "print(f\"Intercepto: {modelo_2.params['Intercept']:.2f} | Horas de estudo: {modelo_2.params['hrs_estudo']:.2f} | Faltas: {modelo_2.params['faltas']:.2f}\")"
   ]
  },
  {
   "cell_type": "markdown",
   "metadata": {},
   "source": [
    "#### Relembrando\n",
    "\n",
    "$Y = X\\hat{\\beta} + \\epsilon$\n",
    "\n",
    "$\\hat{\\beta} = (X'X)^{-1}X'Y$\n",
    "\n",
    "$\\hat{Y} = X\\hat{\\beta}$"
   ]
  },
  {
   "cell_type": "code",
   "execution_count": 5,
   "metadata": {},
   "outputs": [],
   "source": [
    "# Estimando betas\n",
    "Y = dados['nota']\n",
    "X_mat = matriz_x(colunas = ['hrs_estudo', 'faltas'], dados=dados)\n",
    "beta = inv(X_mat.T @ X_mat) @ X_mat.T @ Y"
   ]
  },
  {
   "cell_type": "markdown",
   "metadata": {},
   "source": [
    "Regressão Linear Múltipla:\n",
    "\n",
    "$Nota = \\beta_{0a} + \\beta_{1a}\\text{Estudo} + \\beta_{2a}\\text{Faltas} + \\epsilon_a$\n",
    "\n",
    "em que $\\beta_{1a} = 1.26$"
   ]
  },
  {
   "cell_type": "markdown",
   "metadata": {},
   "source": [
    "Podemos chegar no paramaetro $\\beta_{estudo} = 1.26$ utilizando o residuo de uma regressao de _Estudo_ em _Faltas_.\n",
    "\n",
    "Modelo 1)\n",
    "  - $Estudo = \\beta_{0b} + \\beta_{1b}\\text{Faltas} + \\epsilon_b$\n",
    "  \n",
    "Modelo 2)\n",
    "  - $Nota = \\beta_{0c} + \\beta_{1c}\\epsilon_b + \\epsilon_c$\n",
    "\n",
    "Assim, $\\beta_{1c} = \\beta_{estudo}$"
   ]
  },
  {
   "cell_type": "code",
   "execution_count": 6,
   "metadata": {},
   "outputs": [],
   "source": [
    "def reg_linear(x, y, dados):\n",
    "    y_ = dados[y]\n",
    "    x_mat = matriz_x(colunas=x, dados=dados)\n",
    "    beta = inv(x_mat.T @ x_mat) @ x_mat.T @ y_\n",
    "    y_hat = x_mat @ beta\n",
    "    residuo = y_ - y_hat\n",
    "\n",
    "    return beta, y_hat, residuo"
   ]
  },
  {
   "cell_type": "code",
   "execution_count": 7,
   "metadata": {},
   "outputs": [],
   "source": [
    "# Modelo 1)\n",
    "beta_1, y_hat_1, residuo_1 = reg_linear(x=['faltas'], y=['hrs_estudo'], dados=dados)"
   ]
  },
  {
   "cell_type": "code",
   "execution_count": 8,
   "metadata": {},
   "outputs": [],
   "source": [
    "# Modelo 2)\n",
    "beta_2, y_hat_2, residuo_2 = reg_linear(x=['residuo'], y=['nota'], dados=dados.assign(residuo = residuo_1))"
   ]
  },
  {
   "cell_type": "code",
   "execution_count": 9,
   "metadata": {},
   "outputs": [
    {
     "name": "stdout",
     "output_type": "stream",
     "text": [
      "Horas de estudo 1.2660 (reg. linear multipla)\n",
      "Horas de estudo 1.2660 (regressao com residuos)\n"
     ]
    }
   ],
   "source": [
    "# Comparando parametros\n",
    "print(f\"Horas de estudo {modelo_2.params['hrs_estudo']:.4f} (reg. linear multipla)\")\n",
    "print(f\"Horas de estudo {beta_2['nota'][1]:.4f} (regressao com residuos)\")"
   ]
  },
  {
   "cell_type": "markdown",
   "metadata": {},
   "source": [
    "Mesmo resultado utilizando `statsmodels`"
   ]
  },
  {
   "cell_type": "code",
   "execution_count": 10,
   "metadata": {},
   "outputs": [
    {
     "name": "stdout",
     "output_type": "stream",
     "text": [
      "Horas de estudo: 1.2660\n"
     ]
    }
   ],
   "source": [
    "modelo_1 = smf.ols(\"hrs_estudo ~ faltas\", data=dados).fit()\n",
    "\n",
    "modelo_2 = smf.ols(\"nota ~ estudo_residuo\", data=dados.assign(estudo_residuo=modelo_1.resid)).fit()\n",
    "print(f\"Horas de estudo: {modelo_2.params['estudo_residuo']:.4f}\")"
   ]
  }
 ],
 "metadata": {
  "kernelspec": {
   "display_name": "projeto-local",
   "language": "python",
   "name": "python3"
  },
  "language_info": {
   "codemirror_mode": {
    "name": "ipython",
    "version": 3
   },
   "file_extension": ".py",
   "mimetype": "text/x-python",
   "name": "python",
   "nbconvert_exporter": "python",
   "pygments_lexer": "ipython3",
   "version": "3.12.0"
  }
 },
 "nbformat": 4,
 "nbformat_minor": 2
}
